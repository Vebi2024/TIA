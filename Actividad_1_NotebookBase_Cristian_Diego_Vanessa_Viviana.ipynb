{
  "cells": [
    {
      "cell_type": "markdown",
      "id": "de1406ba",
      "metadata": {
        "id": "de1406ba"
      },
      "source": [
        "<img src=\"https://www.unir.net/wp-content/uploads/2019/11/Unir_2021_logo.svg\" width=\"240\" height=\"240\" align=\"right\"/>"
      ]
    },
    {
      "cell_type": "markdown",
      "id": "8b6f603c",
      "metadata": {
        "id": "8b6f603c"
      },
      "source": [
        "<center><h1>Técnicas de Inteligencia Artificial</header1></center>\n",
        "<left><h1>Actividad 1. Laboratorio: Árboles de decisión, reglas y ensemble learning</header1></left>"
      ]
    },
    {
      "cell_type": "markdown",
      "id": "3eb1aaac",
      "metadata": {
        "id": "3eb1aaac"
      },
      "source": [
        "Presentado por:  Diego Gutierrez,r   <br>\n",
        "\n",
        "Fecha: 07/09/2024"
      ]
    },
    {
      "cell_type": "markdown",
      "id": "1dec299b",
      "metadata": {
        "ExecuteTime": {
          "end_time": "2022-03-14T15:14:04.930713Z",
          "start_time": "2022-03-14T15:14:04.921682Z"
        },
        "id": "1dec299b"
      },
      "source": [
        "## Importación de librerias necesarias"
      ]
    },
    {
      "cell_type": "code",
      "execution_count": 6,
      "id": "6d1abf7a",
      "metadata": {
        "ExecuteTime": {
          "end_time": "2022-03-14T15:14:46.228059Z",
          "start_time": "2022-03-14T15:14:46.223108Z"
        },
        "id": "6d1abf7a"
      },
      "outputs": [],
      "source": [
        "#Para esta actividad se importarán las siguientes librerías:\n",
        "import pandas as pd\n",
        "import numpy as np\n",
        "import matplotlib.pyplot as plt\n",
        "import seaborn as sns\n",
        "from sklearn.model_selection import train_test_split\n",
        "from sklearn.tree import DecisionTreeClassifier\n",
        "from sklearn.ensemble import RandomForestClassifier\n",
        "from sklearn.metrics import accuracy_score, classification_report, confusion_matrix\n",
        "from sklearn.preprocessing import OneHotEncoder"
      ]
    },
    {
      "cell_type": "markdown",
      "id": "6a44b924",
      "metadata": {
        "id": "6a44b924"
      },
      "source": [
        "## Cargar el Dataset"
      ]
    },
    {
      "cell_type": "code",
      "execution_count": 7,
      "id": "3541e808",
      "metadata": {
        "colab": {
          "base_uri": "https://localhost:8080/",
          "height": 206
        },
        "id": "3541e808",
        "outputId": "26463f58-18c3-4ade-9191-da003a12bab7"
      },
      "outputs": [
        {
          "output_type": "execute_result",
          "data": {
            "text/plain": [
              "  Buying Maintenance Doors Person lug_boot safety  class\n",
              "0  vhigh       vhigh     2      2    small    low  unacc\n",
              "1  vhigh       vhigh     2      2    small    med  unacc\n",
              "2  vhigh       vhigh     2      2    small   high  unacc\n",
              "3  vhigh       vhigh     2      2      med    low  unacc\n",
              "4  vhigh       vhigh     2      2      med    med  unacc"
            ],
            "text/html": [
              "\n",
              "  <div id=\"df-dd46e143-0a16-463f-b064-36e6170b798e\" class=\"colab-df-container\">\n",
              "    <div>\n",
              "<style scoped>\n",
              "    .dataframe tbody tr th:only-of-type {\n",
              "        vertical-align: middle;\n",
              "    }\n",
              "\n",
              "    .dataframe tbody tr th {\n",
              "        vertical-align: top;\n",
              "    }\n",
              "\n",
              "    .dataframe thead th {\n",
              "        text-align: right;\n",
              "    }\n",
              "</style>\n",
              "<table border=\"1\" class=\"dataframe\">\n",
              "  <thead>\n",
              "    <tr style=\"text-align: right;\">\n",
              "      <th></th>\n",
              "      <th>Buying</th>\n",
              "      <th>Maintenance</th>\n",
              "      <th>Doors</th>\n",
              "      <th>Person</th>\n",
              "      <th>lug_boot</th>\n",
              "      <th>safety</th>\n",
              "      <th>class</th>\n",
              "    </tr>\n",
              "  </thead>\n",
              "  <tbody>\n",
              "    <tr>\n",
              "      <th>0</th>\n",
              "      <td>vhigh</td>\n",
              "      <td>vhigh</td>\n",
              "      <td>2</td>\n",
              "      <td>2</td>\n",
              "      <td>small</td>\n",
              "      <td>low</td>\n",
              "      <td>unacc</td>\n",
              "    </tr>\n",
              "    <tr>\n",
              "      <th>1</th>\n",
              "      <td>vhigh</td>\n",
              "      <td>vhigh</td>\n",
              "      <td>2</td>\n",
              "      <td>2</td>\n",
              "      <td>small</td>\n",
              "      <td>med</td>\n",
              "      <td>unacc</td>\n",
              "    </tr>\n",
              "    <tr>\n",
              "      <th>2</th>\n",
              "      <td>vhigh</td>\n",
              "      <td>vhigh</td>\n",
              "      <td>2</td>\n",
              "      <td>2</td>\n",
              "      <td>small</td>\n",
              "      <td>high</td>\n",
              "      <td>unacc</td>\n",
              "    </tr>\n",
              "    <tr>\n",
              "      <th>3</th>\n",
              "      <td>vhigh</td>\n",
              "      <td>vhigh</td>\n",
              "      <td>2</td>\n",
              "      <td>2</td>\n",
              "      <td>med</td>\n",
              "      <td>low</td>\n",
              "      <td>unacc</td>\n",
              "    </tr>\n",
              "    <tr>\n",
              "      <th>4</th>\n",
              "      <td>vhigh</td>\n",
              "      <td>vhigh</td>\n",
              "      <td>2</td>\n",
              "      <td>2</td>\n",
              "      <td>med</td>\n",
              "      <td>med</td>\n",
              "      <td>unacc</td>\n",
              "    </tr>\n",
              "  </tbody>\n",
              "</table>\n",
              "</div>\n",
              "    <div class=\"colab-df-buttons\">\n",
              "\n",
              "  <div class=\"colab-df-container\">\n",
              "    <button class=\"colab-df-convert\" onclick=\"convertToInteractive('df-dd46e143-0a16-463f-b064-36e6170b798e')\"\n",
              "            title=\"Convert this dataframe to an interactive table.\"\n",
              "            style=\"display:none;\">\n",
              "\n",
              "  <svg xmlns=\"http://www.w3.org/2000/svg\" height=\"24px\" viewBox=\"0 -960 960 960\">\n",
              "    <path d=\"M120-120v-720h720v720H120Zm60-500h600v-160H180v160Zm220 220h160v-160H400v160Zm0 220h160v-160H400v160ZM180-400h160v-160H180v160Zm440 0h160v-160H620v160ZM180-180h160v-160H180v160Zm440 0h160v-160H620v160Z\"/>\n",
              "  </svg>\n",
              "    </button>\n",
              "\n",
              "  <style>\n",
              "    .colab-df-container {\n",
              "      display:flex;\n",
              "      gap: 12px;\n",
              "    }\n",
              "\n",
              "    .colab-df-convert {\n",
              "      background-color: #E8F0FE;\n",
              "      border: none;\n",
              "      border-radius: 50%;\n",
              "      cursor: pointer;\n",
              "      display: none;\n",
              "      fill: #1967D2;\n",
              "      height: 32px;\n",
              "      padding: 0 0 0 0;\n",
              "      width: 32px;\n",
              "    }\n",
              "\n",
              "    .colab-df-convert:hover {\n",
              "      background-color: #E2EBFA;\n",
              "      box-shadow: 0px 1px 2px rgba(60, 64, 67, 0.3), 0px 1px 3px 1px rgba(60, 64, 67, 0.15);\n",
              "      fill: #174EA6;\n",
              "    }\n",
              "\n",
              "    .colab-df-buttons div {\n",
              "      margin-bottom: 4px;\n",
              "    }\n",
              "\n",
              "    [theme=dark] .colab-df-convert {\n",
              "      background-color: #3B4455;\n",
              "      fill: #D2E3FC;\n",
              "    }\n",
              "\n",
              "    [theme=dark] .colab-df-convert:hover {\n",
              "      background-color: #434B5C;\n",
              "      box-shadow: 0px 1px 3px 1px rgba(0, 0, 0, 0.15);\n",
              "      filter: drop-shadow(0px 1px 2px rgba(0, 0, 0, 0.3));\n",
              "      fill: #FFFFFF;\n",
              "    }\n",
              "  </style>\n",
              "\n",
              "    <script>\n",
              "      const buttonEl =\n",
              "        document.querySelector('#df-dd46e143-0a16-463f-b064-36e6170b798e button.colab-df-convert');\n",
              "      buttonEl.style.display =\n",
              "        google.colab.kernel.accessAllowed ? 'block' : 'none';\n",
              "\n",
              "      async function convertToInteractive(key) {\n",
              "        const element = document.querySelector('#df-dd46e143-0a16-463f-b064-36e6170b798e');\n",
              "        const dataTable =\n",
              "          await google.colab.kernel.invokeFunction('convertToInteractive',\n",
              "                                                    [key], {});\n",
              "        if (!dataTable) return;\n",
              "\n",
              "        const docLinkHtml = 'Like what you see? Visit the ' +\n",
              "          '<a target=\"_blank\" href=https://colab.research.google.com/notebooks/data_table.ipynb>data table notebook</a>'\n",
              "          + ' to learn more about interactive tables.';\n",
              "        element.innerHTML = '';\n",
              "        dataTable['output_type'] = 'display_data';\n",
              "        await google.colab.output.renderOutput(dataTable, element);\n",
              "        const docLink = document.createElement('div');\n",
              "        docLink.innerHTML = docLinkHtml;\n",
              "        element.appendChild(docLink);\n",
              "      }\n",
              "    </script>\n",
              "  </div>\n",
              "\n",
              "\n",
              "<div id=\"df-4b28dc1c-7965-4957-9fb7-aede7740b43b\">\n",
              "  <button class=\"colab-df-quickchart\" onclick=\"quickchart('df-4b28dc1c-7965-4957-9fb7-aede7740b43b')\"\n",
              "            title=\"Suggest charts\"\n",
              "            style=\"display:none;\">\n",
              "\n",
              "<svg xmlns=\"http://www.w3.org/2000/svg\" height=\"24px\"viewBox=\"0 0 24 24\"\n",
              "     width=\"24px\">\n",
              "    <g>\n",
              "        <path d=\"M19 3H5c-1.1 0-2 .9-2 2v14c0 1.1.9 2 2 2h14c1.1 0 2-.9 2-2V5c0-1.1-.9-2-2-2zM9 17H7v-7h2v7zm4 0h-2V7h2v10zm4 0h-2v-4h2v4z\"/>\n",
              "    </g>\n",
              "</svg>\n",
              "  </button>\n",
              "\n",
              "<style>\n",
              "  .colab-df-quickchart {\n",
              "      --bg-color: #E8F0FE;\n",
              "      --fill-color: #1967D2;\n",
              "      --hover-bg-color: #E2EBFA;\n",
              "      --hover-fill-color: #174EA6;\n",
              "      --disabled-fill-color: #AAA;\n",
              "      --disabled-bg-color: #DDD;\n",
              "  }\n",
              "\n",
              "  [theme=dark] .colab-df-quickchart {\n",
              "      --bg-color: #3B4455;\n",
              "      --fill-color: #D2E3FC;\n",
              "      --hover-bg-color: #434B5C;\n",
              "      --hover-fill-color: #FFFFFF;\n",
              "      --disabled-bg-color: #3B4455;\n",
              "      --disabled-fill-color: #666;\n",
              "  }\n",
              "\n",
              "  .colab-df-quickchart {\n",
              "    background-color: var(--bg-color);\n",
              "    border: none;\n",
              "    border-radius: 50%;\n",
              "    cursor: pointer;\n",
              "    display: none;\n",
              "    fill: var(--fill-color);\n",
              "    height: 32px;\n",
              "    padding: 0;\n",
              "    width: 32px;\n",
              "  }\n",
              "\n",
              "  .colab-df-quickchart:hover {\n",
              "    background-color: var(--hover-bg-color);\n",
              "    box-shadow: 0 1px 2px rgba(60, 64, 67, 0.3), 0 1px 3px 1px rgba(60, 64, 67, 0.15);\n",
              "    fill: var(--button-hover-fill-color);\n",
              "  }\n",
              "\n",
              "  .colab-df-quickchart-complete:disabled,\n",
              "  .colab-df-quickchart-complete:disabled:hover {\n",
              "    background-color: var(--disabled-bg-color);\n",
              "    fill: var(--disabled-fill-color);\n",
              "    box-shadow: none;\n",
              "  }\n",
              "\n",
              "  .colab-df-spinner {\n",
              "    border: 2px solid var(--fill-color);\n",
              "    border-color: transparent;\n",
              "    border-bottom-color: var(--fill-color);\n",
              "    animation:\n",
              "      spin 1s steps(1) infinite;\n",
              "  }\n",
              "\n",
              "  @keyframes spin {\n",
              "    0% {\n",
              "      border-color: transparent;\n",
              "      border-bottom-color: var(--fill-color);\n",
              "      border-left-color: var(--fill-color);\n",
              "    }\n",
              "    20% {\n",
              "      border-color: transparent;\n",
              "      border-left-color: var(--fill-color);\n",
              "      border-top-color: var(--fill-color);\n",
              "    }\n",
              "    30% {\n",
              "      border-color: transparent;\n",
              "      border-left-color: var(--fill-color);\n",
              "      border-top-color: var(--fill-color);\n",
              "      border-right-color: var(--fill-color);\n",
              "    }\n",
              "    40% {\n",
              "      border-color: transparent;\n",
              "      border-right-color: var(--fill-color);\n",
              "      border-top-color: var(--fill-color);\n",
              "    }\n",
              "    60% {\n",
              "      border-color: transparent;\n",
              "      border-right-color: var(--fill-color);\n",
              "    }\n",
              "    80% {\n",
              "      border-color: transparent;\n",
              "      border-right-color: var(--fill-color);\n",
              "      border-bottom-color: var(--fill-color);\n",
              "    }\n",
              "    90% {\n",
              "      border-color: transparent;\n",
              "      border-bottom-color: var(--fill-color);\n",
              "    }\n",
              "  }\n",
              "</style>\n",
              "\n",
              "  <script>\n",
              "    async function quickchart(key) {\n",
              "      const quickchartButtonEl =\n",
              "        document.querySelector('#' + key + ' button');\n",
              "      quickchartButtonEl.disabled = true;  // To prevent multiple clicks.\n",
              "      quickchartButtonEl.classList.add('colab-df-spinner');\n",
              "      try {\n",
              "        const charts = await google.colab.kernel.invokeFunction(\n",
              "            'suggestCharts', [key], {});\n",
              "      } catch (error) {\n",
              "        console.error('Error during call to suggestCharts:', error);\n",
              "      }\n",
              "      quickchartButtonEl.classList.remove('colab-df-spinner');\n",
              "      quickchartButtonEl.classList.add('colab-df-quickchart-complete');\n",
              "    }\n",
              "    (() => {\n",
              "      let quickchartButtonEl =\n",
              "        document.querySelector('#df-4b28dc1c-7965-4957-9fb7-aede7740b43b button');\n",
              "      quickchartButtonEl.style.display =\n",
              "        google.colab.kernel.accessAllowed ? 'block' : 'none';\n",
              "    })();\n",
              "  </script>\n",
              "</div>\n",
              "\n",
              "    </div>\n",
              "  </div>\n"
            ],
            "application/vnd.google.colaboratory.intrinsic+json": {
              "type": "dataframe",
              "variable_name": "df",
              "summary": "{\n  \"name\": \"df\",\n  \"rows\": 1750,\n  \"fields\": [\n    {\n      \"column\": \"Buying\",\n      \"properties\": {\n        \"dtype\": \"category\",\n        \"num_unique_values\": 4,\n        \"samples\": [\n          \"high\",\n          \"low\",\n          \"vhigh\"\n        ],\n        \"semantic_type\": \"\",\n        \"description\": \"\"\n      }\n    },\n    {\n      \"column\": \"Maintenance\",\n      \"properties\": {\n        \"dtype\": \"category\",\n        \"num_unique_values\": 4,\n        \"samples\": [\n          \"high\",\n          \"low\",\n          \"vhigh\"\n        ],\n        \"semantic_type\": \"\",\n        \"description\": \"\"\n      }\n    },\n    {\n      \"column\": \"Doors\",\n      \"properties\": {\n        \"dtype\": \"category\",\n        \"num_unique_values\": 4,\n        \"samples\": [\n          \"3\",\n          \"5more\",\n          \"2\"\n        ],\n        \"semantic_type\": \"\",\n        \"description\": \"\"\n      }\n    },\n    {\n      \"column\": \"Person\",\n      \"properties\": {\n        \"dtype\": \"category\",\n        \"num_unique_values\": 3,\n        \"samples\": [\n          \"2\",\n          \"4\",\n          \"more\"\n        ],\n        \"semantic_type\": \"\",\n        \"description\": \"\"\n      }\n    },\n    {\n      \"column\": \"lug_boot\",\n      \"properties\": {\n        \"dtype\": \"category\",\n        \"num_unique_values\": 3,\n        \"samples\": [\n          \"small\",\n          \"med\",\n          \"big\"\n        ],\n        \"semantic_type\": \"\",\n        \"description\": \"\"\n      }\n    },\n    {\n      \"column\": \"safety\",\n      \"properties\": {\n        \"dtype\": \"category\",\n        \"num_unique_values\": 3,\n        \"samples\": [\n          \"low\",\n          \"med\",\n          \"high\"\n        ],\n        \"semantic_type\": \"\",\n        \"description\": \"\"\n      }\n    },\n    {\n      \"column\": \"class\",\n      \"properties\": {\n        \"dtype\": \"category\",\n        \"num_unique_values\": 4,\n        \"samples\": [\n          \"acc\",\n          \"good\",\n          \"unacc\"\n        ],\n        \"semantic_type\": \"\",\n        \"description\": \"\"\n      }\n    }\n  ]\n}"
            }
          },
          "metadata": {},
          "execution_count": 7
        }
      ],
      "source": [
        "#Código para cargar el Dataset\n",
        "url = 'https://raw.githubusercontent.com/oscar-unir/TIA/main/datasets/car/Laboratorio_dataset_car.csv'\n",
        "df = pd.read_csv(url, delimiter= ';')\n",
        "df.head()\n"
      ]
    },
    {
      "cell_type": "markdown",
      "id": "7f868eab",
      "metadata": {
        "id": "7f868eab"
      },
      "source": [
        "## Explique el problema a resolver.\n",
        "Descripción del problema. Tipo de problema (justifique). Variable objetivo, variables de entrada. Utilidad de su posible solución. Elementos adicionales que considere relevantes:"
      ]
    },
    {
      "cell_type": "markdown",
      "id": "a0b719c1",
      "metadata": {
        "id": "a0b719c1"
      },
      "source": [
        "## Caracterización del Dataset\n",
        "\n",
        "Se incluye una descripción de los datos con:\n",
        "\n",
        ">- Número de clases de la variable objetivo, indicando que representan dichas clases y el tipo de valor que toman.\n",
        ">- Número de instancias en total.\n",
        ">- Número de instancias pertenecientes a cada clase.\n",
        ">- Número de atributos de entrada, su significado y tipo.\n",
        ">- ¿Hay algún valor de atributo desconocido?\n",
        "\n",
        "Se incorporá una descripción (EDA) del conjunto de datos utilizado. Se analiza el dataset proporcionando, se muestra al menos algunas de sus características mediante tablas y al menos algunas de ellas en modo gráfico (p.ej., histogramas, diagramas de dispersión, diagramas de cajas y bigotes, etc.)\n"
      ]
    },
    {
      "cell_type": "code",
      "execution_count": 8,
      "metadata": {
        "id": "Gxxkqz6HQAOt"
      },
      "outputs": [],
      "source": [
        "#Analisis de variables\n",
        "descripciones_atributos = {\n",
        "    'Buying': 'Costo de vehiculo',\n",
        "    'Maintenance': 'Costo de Mantenimiento',\n",
        "    'Doors': 'Numero de puertas',\n",
        "    'Person': 'Capacidad de personas',\n",
        "    'lug_boot': 'Tipo de maletero',\n",
        "    'safety': 'Nivel de seguridad',\n",
        "#Variable Objetivo\n",
        "    'class': 'Clasificacion',\n",
        "}\n",
        "\n",
        "df.drop_duplicates()\n",
        "df.isnull().sum()\n",
        "\n",
        "#Separar las características (variables de entrada) y la variable objetivo\n",
        "X = df.drop(columns='class')  # Variables de entrada\n",
        "y = df['class']               # Variable objetivo"
      ],
      "id": "Gxxkqz6HQAOt"
    },
    {
      "cell_type": "code",
      "execution_count": 9,
      "id": "2f0ed5d2",
      "metadata": {
        "colab": {
          "base_uri": "https://localhost:8080/"
        },
        "id": "2f0ed5d2",
        "outputId": "f3d0ef0b-bd77-49c0-cdec-54ae03f8b286"
      },
      "outputs": [
        {
          "output_type": "stream",
          "name": "stdout",
          "text": [
            "Número de clases: 4\n",
            "Clases presentes en la variable objetivo: ['unacc' 'acc' 'vgood' 'good']\n",
            "Significado de las clases:\n",
            "- 'unacc': Inaceptable\n",
            "- 'acc': Aceptable\n",
            "- 'good': Bueno\n",
            "- 'vgood': Muy bueno\n",
            "\n",
            "Número total de instancias: 1750\n",
            "\n",
            "Número de instancias por clase:\n",
            "class\n",
            "unacc    1215\n",
            "acc       390\n",
            "good       75\n",
            "vgood      70\n",
            "Name: count, dtype: int64\n",
            "\n",
            "\n",
            "Número de atributos de entrada: 6\n",
            "Atributos y su significado:\n",
            "- 'Buying': Precio del auto (vhigh, high, med, low)\n",
            "- 'Maintenance': Costo de mantenimiento (vhigh, high, med, low)\n",
            "- 'Doors': Número de puertas (2, 3, 4, 5more)\n",
            "- 'Person': Capacidad de personas (2, 4, more)\n",
            "- 'lug_boot': Tamaño del maletero (small, med, big)\n",
            "- 'safety': Nivel de seguridad (low, med, high)\n",
            "\n",
            "¿Hay valores faltantes en los atributos?:\n",
            "No hay valores faltantes\n"
          ]
        }
      ],
      "source": [
        "#Código que responde a la descripción anterior\n",
        "# Verificar las clases únicas en la variable objetivo 'class'\n",
        "clases_unicas = df['class'].unique()\n",
        "num_clases = len(clases_unicas)\n",
        "\n",
        "print(f\"Número de clases: {num_clases}\")\n",
        "print(f\"Clases presentes en la variable objetivo: {clases_unicas}\")\n",
        "print(\"Significado de las clases:\")\n",
        "print(\"- 'unacc': Inaceptable\")\n",
        "print(\"- 'acc': Aceptable\")\n",
        "print(\"- 'good': Bueno\")\n",
        "print(\"- 'vgood': Muy bueno\")\n",
        "print(\"\")\n",
        "\n",
        "num_instancias = df.shape[0]\n",
        "print(f\"Número total de instancias: {num_instancias}\")\n",
        "print(\"\")\n",
        "# Contar el número de instancias en cada clase\n",
        "instancias_por_clase = df['class'].value_counts()\n",
        "print(\"Número de instancias por clase:\")\n",
        "print(instancias_por_clase)\n",
        "print(\"\")\n",
        "# Número de atributos de entrada\n",
        "atributos_entrada = df.drop('class', axis=1).columns\n",
        "num_atributos = len(atributos_entrada)\n",
        "print(\"\")\n",
        "print(f\"Número de atributos de entrada: {num_atributos}\")\n",
        "print(\"Atributos y su significado:\")\n",
        "print(\"- 'Buying': Precio del auto (vhigh, high, med, low)\")\n",
        "print(\"- 'Maintenance': Costo de mantenimiento (vhigh, high, med, low)\")\n",
        "print(\"- 'Doors': Número de puertas (2, 3, 4, 5more)\")\n",
        "print(\"- 'Person': Capacidad de personas (2, 4, more)\")\n",
        "print(\"- 'lug_boot': Tamaño del maletero (small, med, big)\")\n",
        "print(\"- 'safety': Nivel de seguridad (low, med, high)\")\n",
        "print(\"\")\n",
        "# Verificar si hay valores faltantes en el conjunto de datos\n",
        "valores_faltantes = df.isnull().sum()\n",
        "\n",
        "print(\"¿Hay valores faltantes en los atributos?:\")\n",
        "print(valores_faltantes[valores_faltantes > 0] if valores_faltantes.sum() > 0 else \"No hay valores faltantes\")\n"
      ]
    },
    {
      "cell_type": "code",
      "source": [
        "#Aplicar One-Hot Encoding a las variables categóricas\n",
        "encoder = OneHotEncoder()\n",
        "X_encoded = encoder.fit_transform(X).toarray()\n",
        "\n",
        "#Renombrar las categorías de la variable 'class'\n",
        "nuevos_nombres = {\n",
        "    'unacc': 'Inaceptable',\n",
        "    'acc': 'Aceptable',\n",
        "    'good': 'Bueno',\n",
        "    'vgood': 'Muy Bueno'\n",
        "}\n",
        "\n",
        "#Aplicar los nuevos nombres a la variable objetivo 'y'\n",
        "y_renamed = y.replace(nuevos_nombres)\n",
        "\n",
        "#Dividir el dataset en entrenamiento (70%) y prueba (30%)\n",
        "X_train, X_test, y_train, y_test = train_test_split(X_encoded, y_renamed, test_size=0.3, random_state=42)\n",
        "\n",
        "#Visualización de la distribución de clases en un histograma\n",
        "plt.figure(figsize=(8, 6))\n",
        "y_renamed.value_counts().plot(kind='bar', color='skyblue')\n",
        "plt.title('Distribución de las Clases de Vehículos')\n",
        "plt.xlabel('Clase')\n",
        "plt.ylabel('Cantidad')\n",
        "plt.xticks(rotation=45)\n",
        "plt.show()"
      ],
      "metadata": {
        "colab": {
          "base_uri": "https://localhost:8080/",
          "height": 618
        },
        "id": "xhTedcSeQFBI",
        "outputId": "791984fb-1fe7-4efe-9030-73b9e2ce85b5"
      },
      "id": "xhTedcSeQFBI",
      "execution_count": 10,
      "outputs": [
        {
          "output_type": "display_data",
          "data": {
            "text/plain": [
              "<Figure size 800x600 with 1 Axes>"
            ],
            "image/png": "[encoded data removed]"
          },
          "metadata": {}
        }
      ]
    },
    {
      "cell_type": "markdown",
      "id": "a7ab5e48",
      "metadata": {
        "id": "a7ab5e48"
      },
      "source": [
        "En un par de párrafos haga un resumen de los principales hallazagos encontrados:    "
      ]
    },
    {
      "cell_type": "markdown",
      "id": "ece5beca",
      "metadata": {
        "ExecuteTime": {
          "end_time": "2022-03-14T15:52:20.156185Z",
          "start_time": "2022-03-14T15:52:20.150187Z"
        },
        "id": "ece5beca"
      },
      "source": [
        "## Preprocesamiento del dataset. Transformaciones previas necesarias para la modelación"
      ]
    },
    {
      "cell_type": "code",
      "execution_count": 11,
      "id": "85c9ad88",
      "metadata": {
        "colab": {
          "base_uri": "https://localhost:8080/"
        },
        "id": "85c9ad88",
        "outputId": "991c0721-e807-4b0e-e70a-1b2c297ca5aa"
      },
      "outputs": [
        {
          "output_type": "stream",
          "name": "stdout",
          "text": [
            "\n",
            "Verificación de valores faltantes:\n",
            "Buying         0\n",
            "Maintenance    0\n",
            "Doors          0\n",
            "Person         0\n",
            "lug_boot       0\n",
            "safety         0\n",
            "class          0\n",
            "dtype: int64\n",
            "\n",
            "Dataset después de la codificación de variables categóricas:\n",
            "   Buying  Maintenance  Doors  Person  lug_boot  safety  class\n",
            "0       3            3      0       0         2       1      2\n",
            "1       3            3      0       0         2       2      2\n",
            "2       3            3      0       0         2       0      2\n",
            "3       3            3      0       0         1       1      2\n",
            "4       3            3      0       0         1       2      2\n"
          ]
        }
      ],
      "source": [
        "from sklearn.preprocessing import LabelEncoder, StandardScaler\n",
        "#Código que realice las transformaciones necesarias para poder realizar los procesos de modelación. Ej.One hot enconding\n",
        "print(\"\\nVerificación de valores faltantes:\")\n",
        "print(df.isnull().sum())  # No se encontraron valores faltantes en este dataset\n",
        "\n",
        "# Codificación de las variables categóricas\n",
        "# Usamos LabelEncoder para convertir las variables categóricas en numéricas\n",
        "\n",
        "# Crear un objeto LabelEncoder\n",
        "label_encoder = LabelEncoder()\n",
        "\n",
        "# Aplicar la codificación a todas las columnas del dataset\n",
        "for col in df.columns:\n",
        "    df[col] = label_encoder.fit_transform(df[col])\n",
        "\n",
        "# Mostrar el dataset después de la codificación\n",
        "print(\"\\nDataset después de la codificación de variables categóricas:\")\n",
        "print(df.head())\n",
        "\n",
        "# Separar la variable objetivo (class) de las variables predictoras\n",
        "X = df.drop('class', axis=1)  # Variables de entrada\n",
        "y = df['class']  # Variable objetivo\n",
        "\n",
        "# Escalado de las variables\n",
        "# En este caso, vamos a escalar las variables predictoras usando StandardScaler\n",
        "\n",
        "scaler = StandardScaler()\n",
        "X_scaled = scaler.fit_transform(X)\n"
      ]
    },
    {
      "cell_type": "markdown",
      "id": "49815fde",
      "metadata": {
        "ExecuteTime": {
          "end_time": "2022-03-14T15:56:34.366469Z",
          "start_time": "2022-03-14T15:56:34.358471Z"
        },
        "id": "49815fde"
      },
      "source": [
        "## División del dataset en datos de entrenamiento y datos de test"
      ]
    },
    {
      "cell_type": "code",
      "execution_count": 12,
      "id": "6f26d21e",
      "metadata": {
        "colab": {
          "base_uri": "https://localhost:8080/"
        },
        "id": "6f26d21e",
        "outputId": "7a315b54-77ea-4b12-d10a-5e2183521311"
      },
      "outputs": [
        {
          "output_type": "stream",
          "name": "stdout",
          "text": [
            "\n",
            "Dimensiones de los conjuntos de datos:\n",
            "Conjunto de entrenamiento: (1225, 6)\n",
            "Conjunto de prueba: (525, 6)\n",
            "\n",
            "Datos procesados y listos para modelar:\n",
            "X_train:\n",
            "[[ 0.43854143  1.34482359 -1.33239012 -0.00490676  0.00209927  1.22756025]\n",
            " [-1.35038048  0.44793286  1.3436038   1.22178203  1.22667191  1.22756025]\n",
            " [-1.35038048  1.34482359 -1.33239012 -1.23159554 -1.22247338 -1.21638791]\n",
            " [-1.35038048  1.34482359 -0.44039214  1.22178203  1.22667191 -1.21638791]\n",
            " [ 0.43854143 -0.44895788  1.3436038  -1.23159554  0.00209927  1.22756025]]\n",
            "y_train:\n",
            "888     2\n",
            "759     2\n",
            "451     2\n",
            "490     2\n",
            "1290    2\n",
            "Name: class, dtype: int64\n"
          ]
        }
      ],
      "source": [
        "#Código que realice la división en entrenamiento y test, de acuerdo con la estretgia de evluación planeada. Describa cuál es.\n",
        "\n",
        "# Usamos un 70% de los datos para entrenamiento y 30% para pruebas\n",
        "X_train, X_test, y_train, y_test = train_test_split(X_scaled, y, test_size=0.3, random_state=42)\n",
        "\n",
        "# Mostrar las dimensiones de los conjuntos de entrenamiento y prueba\n",
        "print(\"\\nDimensiones de los conjuntos de datos:\")\n",
        "print(f\"Conjunto de entrenamiento: {X_train.shape}\")\n",
        "print(f\"Conjunto de prueba: {X_test.shape}\")\n",
        "\n",
        "# Mostrar un ejemplo de los datos procesados\n",
        "print(\"\\nDatos procesados y listos para modelar:\")\n",
        "print(f\"X_train:\\n{X_train[:5]}\")\n",
        "print(f\"y_train:\\n{y_train[:5]}\")"
      ]
    },
    {
      "cell_type": "markdown",
      "id": "1a91e96b",
      "metadata": {
        "id": "1a91e96b"
      },
      "source": [
        "### **Ajuste de los modelos de clasificación propuestos**\n",
        "\n",
        "\n",
        "---\n",
        "\n",
        "\n",
        "\n",
        "1.   Elemento de lista\n",
        "2.   Elemento de lista\n",
        "\n"
      ]
    },
    {
      "cell_type": "markdown",
      "id": "d552bc64",
      "metadata": {
        "id": "d552bc64"
      },
      "source": [
        "Justifique la selección de las dos propuestas de modelación seleccionadas:"
      ]
    },
    {
      "cell_type": "code",
      "execution_count": 13,
      "id": "d5d2b2c6",
      "metadata": {
        "colab": {
          "base_uri": "https://localhost:8080/"
        },
        "id": "d5d2b2c6",
        "outputId": "53d964b7-a146-4e0e-e1e0-4e0131f0ab8c"
      },
      "outputs": [
        {
          "output_type": "stream",
          "name": "stdout",
          "text": [
            "Precisión del Árbol de Decisión: 0.9733\n",
            "\n",
            "Reporte de Clasificación - Árbol de Decisión:\n",
            "              precision    recall  f1-score   support\n",
            "\n",
            "           0       0.95      0.95      0.95       133\n",
            "           1       0.92      1.00      0.96        22\n",
            "           2       0.98      0.98      0.98       355\n",
            "           3       1.00      0.93      0.97        15\n",
            "\n",
            "    accuracy                           0.97       525\n",
            "   macro avg       0.96      0.97      0.96       525\n",
            "weighted avg       0.97      0.97      0.97       525\n",
            "\n"
          ]
        }
      ],
      "source": [
        "#Código de ajuste del modelo de clasificación 1\n",
        "# Creacion del modelo de Árbol de Decisión\n",
        "decision_tree = DecisionTreeClassifier(random_state=42)\n",
        "\n",
        "# Ajuste del modelo a los datos de entrenamiento\n",
        "decision_tree.fit(X_train, y_train)\n",
        "\n",
        "# Predicciones en el conjunto de prueba\n",
        "y_pred_tree = decision_tree.predict(X_test)\n",
        "\n",
        "# Evaluacion del rendimiento del Árbol de Decisión\n",
        "accuracy_tree = accuracy_score(y_test, y_pred_tree)\n",
        "print(f\"Precisión del Árbol de Decisión: {accuracy_tree:.4f}\")\n",
        "\n",
        "# Reporte de clasificación\n",
        "print(\"\\nReporte de Clasificación - Árbol de Decisión:\")\n",
        "print(classification_report(y_test, y_pred_tree))\n"
      ]
    },
    {
      "cell_type": "code",
      "execution_count": 14,
      "id": "33f5be2a",
      "metadata": {
        "colab": {
          "base_uri": "https://localhost:8080/"
        },
        "id": "33f5be2a",
        "outputId": "630b7ae1-66e0-4fa0-b12d-514fd3cf747e"
      },
      "outputs": [
        {
          "output_type": "stream",
          "name": "stdout",
          "text": [
            "Precisión del Random Forest: 0.9733\n",
            "\n",
            "Reporte de Clasificación - Random Forest:\n",
            "              precision    recall  f1-score   support\n",
            "\n",
            "           0       0.95      0.94      0.95       133\n",
            "           1       0.88      1.00      0.94        22\n",
            "           2       0.99      0.99      0.99       355\n",
            "           3       0.93      0.93      0.93        15\n",
            "\n",
            "    accuracy                           0.97       525\n",
            "   macro avg       0.94      0.96      0.95       525\n",
            "weighted avg       0.97      0.97      0.97       525\n",
            "\n"
          ]
        }
      ],
      "source": [
        "#Código de ajuste del modelo de clasificación 2\n",
        "# Creacion del modelo de Random Forest\n",
        "random_forest = RandomForestClassifier(n_estimators=100, random_state=42)\n",
        "\n",
        "# Ajuste del modelo a los datos de entrenamiento\n",
        "random_forest.fit(X_train, y_train)\n",
        "\n",
        "# Predicciones en el conjunto de prueba\n",
        "y_pred_rf = random_forest.predict(X_test)\n",
        "\n",
        "# Evaluacion del rendimiento del Random Forest\n",
        "accuracy_rf = accuracy_score(y_test, y_pred_rf)\n",
        "print(f\"Precisión del Random Forest: {accuracy_rf:.4f}\")\n",
        "\n",
        "# Reporte de clasificación\n",
        "print(\"\\nReporte de Clasificación - Random Forest:\")\n",
        "print(classification_report(y_test, y_pred_rf))\n",
        "\n"
      ]
    },
    {
      "cell_type": "markdown",
      "id": "aa4b8461",
      "metadata": {
        "id": "aa4b8461"
      },
      "source": [
        "## Evaluación de cada modelo\n",
        "\n",
        "Al menos incluya:\n",
        "\n",
        "+ Instancias clasificadas correctamente\n",
        "+ Instancias clasificadas incorrectamente\n",
        "+ TP Rate\n",
        "+ FP Rate\n",
        "+ Matriz de confusión\n"
      ]
    },
    {
      "cell_type": "code",
      "execution_count": 15,
      "id": "a2e675b3",
      "metadata": {
        "colab": {
          "base_uri": "https://localhost:8080/",
          "height": 768
        },
        "id": "a2e675b3",
        "outputId": "9957bc89-1103-4485-cda7-625e1cdaa67a"
      },
      "outputs": [
        {
          "output_type": "stream",
          "name": "stdout",
          "text": [
            "Instancias clasificadas correctamente - Árbol de Decisión: 511\n",
            "\n",
            "\n",
            "Instancias clasificadas incorrectamente - Árbol de Decisión: 14\n",
            "\n",
            "\n",
            "Tasa de Verdaderos Positivos (TPR) - Árbol de Decisión: [0.94736842 1.         0.98309859 0.93333333]\n",
            "\n",
            "\n",
            "Tasa de Falsos Positivos (FPR) - Árbol de Decisión: [0.01142857 0.00380952 0.01142857 0.        ]\n",
            "\n",
            "\n",
            "Matriz de Confusión - Árbol de Decisión:\n",
            "[[126   1   6   0]\n",
            " [  0  22   0   0]\n",
            " [  5   1 349   0]\n",
            " [  1   0   0  14]]\n",
            "\n",
            "\n"
          ]
        },
        {
          "output_type": "display_data",
          "data": {
            "text/plain": [
              "<Figure size 600x400 with 1 Axes>"
            ],
            "image/png": "[encoded data removed]"
          },
          "metadata": {}
        }
      ],
      "source": [
        "#Código para mostrar la evaluación del modelo de clasificación 1\n",
        "# Importamos las métricas necesarias\n",
        "from sklearn.metrics import confusion_matrix, accuracy_score, classification_report\n",
        "\n",
        "# Calculamos la matriz de confusión para Árbol de Decisión\n",
        "conf_matrix_tree = confusion_matrix(y_test, y_pred_tree)\n",
        "\n",
        "# Instancias clasificadas correctamente\n",
        "correctly_classified_tree = accuracy_score(y_test, y_pred_tree) * len(y_test)\n",
        "print(f\"Instancias clasificadas correctamente - Árbol de Decisión: {int(correctly_classified_tree)}\")\n",
        "print(\"\\n\")\n",
        "# Instancias clasificadas incorrectamente\n",
        "incorrectly_classified_tree = len(y_test) - correctly_classified_tree\n",
        "print(f\"Instancias clasificadas incorrectamente - Árbol de Decisión: {int(incorrectly_classified_tree)}\")\n",
        "print(\"\\n\")\n",
        "# (TPR) - Tasa de verdaderos positivos\n",
        "TPR_tree = conf_matrix_tree.diagonal() / conf_matrix_tree.sum(axis=1)\n",
        "print(f\"Tasa de Verdaderos Positivos (TPR) - Árbol de Decisión: {TPR_tree}\")\n",
        "print(\"\\n\")\n",
        "# (FPR) - Tasa de falsos positivos\n",
        "FPR_tree = (conf_matrix_tree.sum(axis=0) - conf_matrix_tree.diagonal()) / conf_matrix_tree.sum()\n",
        "print(f\"Tasa de Falsos Positivos (FPR) - Árbol de Decisión: {FPR_tree}\")\n",
        "print(\"\\n\")\n",
        "# Mostramos la matriz de confusión\n",
        "print(f\"Matriz de Confusión - Árbol de Decisión:\\n{conf_matrix_tree}\")\n",
        "print(\"\\n\")\n",
        "\n",
        "# Creacion del gráfico de calor para la matriz de confusión\n",
        "conf_matrix_tree = confusion_matrix(y_test, y_pred_tree)\n",
        "\n",
        "plt.figure(figsize=(6, 4))\n",
        "sns.heatmap(conf_matrix_tree, annot=True, fmt='d', cmap='Blues', cbar=False,\n",
        "            xticklabels=label_encoder.classes_, yticklabels=label_encoder.classes_)\n",
        "plt.title('Matriz de Confusión - Árbol de Decisión')\n",
        "plt.xlabel('Predicción')\n",
        "plt.ylabel('Realidad')\n",
        "plt.show()\n"
      ]
    },
    {
      "cell_type": "markdown",
      "id": "ad219a0c",
      "metadata": {
        "id": "ad219a0c"
      },
      "source": [
        "Construya un párrafo con los principales hallazgos."
      ]
    },
    {
      "cell_type": "code",
      "execution_count": 16,
      "id": "efec0bb5",
      "metadata": {
        "colab": {
          "base_uri": "https://localhost:8080/",
          "height": 768
        },
        "id": "efec0bb5",
        "outputId": "d8ac6c48-eba2-4443-8c4c-1f0d3b0dfa8d"
      },
      "outputs": [
        {
          "output_type": "stream",
          "name": "stdout",
          "text": [
            "Instancias clasificadas correctamente - Random Forest: 511\n",
            "\n",
            "\n",
            "Instancias clasificadas incorrectamente - Random Forest: 14\n",
            "\n",
            "\n",
            "Tasa de Verdaderos Positivos (TPR) - Random Forest: [0.93984962 1.         0.98591549 0.93333333]\n",
            "\n",
            "\n",
            "Tasa de Falsos Positivos (FPR) - Random Forest: [0.01142857 0.00571429 0.00761905 0.00190476]\n",
            "\n",
            "\n",
            "Matriz de Confusión - Random Forest:\n",
            "[[125   3   4   1]\n",
            " [  0  22   0   0]\n",
            " [  5   0 350   0]\n",
            " [  1   0   0  14]]\n",
            "\n",
            "\n"
          ]
        },
        {
          "output_type": "display_data",
          "data": {
            "text/plain": [
              "<Figure size 600x400 with 1 Axes>"
            ],
            "image/png": "[encoded data removed]"
          },
          "metadata": {}
        }
      ],
      "source": [
        "#Código  para mostrarla evaluación del modelo de clasificación 2\n",
        "\n",
        "# Calculamos la matriz de confusión para Random Forest\n",
        "conf_matrix_rf = confusion_matrix(y_test, y_pred_rf)\n",
        "\n",
        "# Instancias clasificadas correctamente\n",
        "correctly_classified_rf = accuracy_score(y_test, y_pred_rf) * len(y_test)\n",
        "print(f\"Instancias clasificadas correctamente - Random Forest: {int(correctly_classified_rf)}\")\n",
        "print(\"\\n\")\n",
        "# Instancias clasificadas incorrectamente\n",
        "incorrectly_classified_rf = len(y_test) - correctly_classified_rf\n",
        "print(f\"Instancias clasificadas incorrectamente - Random Forest: {int(incorrectly_classified_rf)}\")\n",
        "print(\"\\n\")\n",
        "# (TPR) - Tasa de verdaderos positivos\n",
        "TPR_rf = conf_matrix_rf.diagonal() / conf_matrix_rf.sum(axis=1)\n",
        "print(f\"Tasa de Verdaderos Positivos (TPR) - Random Forest: {TPR_rf}\")\n",
        "print(\"\\n\")\n",
        "# (FPR) - Tasa de falsos positivos\n",
        "FPR_rf = (conf_matrix_rf.sum(axis=0) - conf_matrix_rf.diagonal()) / conf_matrix_rf.sum()\n",
        "print(f\"Tasa de Falsos Positivos (FPR) - Random Forest: {FPR_rf}\")\n",
        "print(\"\\n\")\n",
        "# Mostramos la matriz de confusión\n",
        "print(f\"Matriz de Confusión - Random Forest:\\n{conf_matrix_rf}\")\n",
        "print(\"\\n\")\n",
        "\n",
        "# Creacion del gráfico de calor para la matriz de confusión\n",
        "conf_matrix_rf = confusion_matrix(y_test, y_pred_rf)\n",
        "\n",
        "plt.figure(figsize=(6, 4))\n",
        "sns.heatmap(conf_matrix_rf, annot=True, fmt='d', cmap='Greens', cbar=False,\n",
        "            xticklabels=label_encoder.classes_, yticklabels=label_encoder.classes_)\n",
        "plt.title('Matriz de Confusión - Random Forest')\n",
        "plt.xlabel('Predicción')\n",
        "plt.ylabel('Realidad')\n",
        "plt.show()"
      ]
    },
    {
      "cell_type": "markdown",
      "id": "bf3a7cec",
      "metadata": {
        "id": "bf3a7cec"
      },
      "source": [
        "Construya un párrafo con los principales hallazgos."
      ]
    },
    {
      "cell_type": "markdown",
      "id": "44df4eb5",
      "metadata": {
        "id": "44df4eb5"
      },
      "source": [
        "## Comparación del desempeño de modelos"
      ]
    },
    {
      "cell_type": "code",
      "execution_count": 17,
      "id": "fe4acd93",
      "metadata": {
        "colab": {
          "base_uri": "https://localhost:8080/"
        },
        "id": "fe4acd93",
        "outputId": "56d458f7-6fd0-45f8-bae3-24001169ca5f"
      },
      "outputs": [
        {
          "output_type": "stream",
          "name": "stdout",
          "text": [
            "              Modelo  Precisión  TPR (Tasa de Verdaderos Positivos)  \\\n",
            "0  Árbol de Decisión   0.973333                            0.965950   \n",
            "1      Random Forest   0.973333                            0.964775   \n",
            "\n",
            "   FPR (Tasa de Falsos Positivos)  Instancias Correctas  \\\n",
            "0                        0.006667                   511   \n",
            "1                        0.006667                   511   \n",
            "\n",
            "   Instancias Incorrectas  \n",
            "0                      14  \n",
            "1                      14  \n"
          ]
        }
      ],
      "source": [
        "#Código para mostrar la comparación de métricas de desempeño de las dos propuestas en tabla\n",
        "\n",
        "# Función para calcular TPR y FPR\n",
        "def calculate_tpr_fpr(conf_matrix):\n",
        "    # TPR (True Positive Rate) por clase\n",
        "    TPR = conf_matrix.diagonal() / conf_matrix.sum(axis=1)\n",
        "\n",
        "    # FPR (False Positive Rate) por clase\n",
        "    FPR = (conf_matrix.sum(axis=0) - conf_matrix.diagonal()) / conf_matrix.sum()\n",
        "\n",
        "    return TPR.mean(), FPR.mean()\n",
        "\n",
        "# Evaluación del Árbol de Decisión\n",
        "conf_matrix_tree = confusion_matrix(y_test, y_pred_tree)\n",
        "accuracy_tree = accuracy_score(y_test, y_pred_tree)\n",
        "TPR_tree, FPR_tree = calculate_tpr_fpr(conf_matrix_tree)\n",
        "\n",
        "# Evaluación de Random Forest\n",
        "conf_matrix_rf = confusion_matrix(y_test, y_pred_rf)\n",
        "accuracy_rf = accuracy_score(y_test, y_pred_rf)\n",
        "TPR_rf, FPR_rf = calculate_tpr_fpr(conf_matrix_rf)\n",
        "\n",
        "# Creacion de un DataFrame con las métricas para ambos modelos\n",
        "comparison_table = pd.DataFrame({\n",
        "    'Modelo': ['Árbol de Decisión', 'Random Forest'],\n",
        "    'Precisión': [accuracy_tree, accuracy_rf],\n",
        "    'TPR (Tasa de Verdaderos Positivos)': [TPR_tree, TPR_rf],\n",
        "    'FPR (Tasa de Falsos Positivos)': [FPR_tree, FPR_rf],\n",
        "    'Instancias Correctas': [int(accuracy_tree * len(y_test)), int(accuracy_rf * len(y_test))],\n",
        "    'Instancias Incorrectas': [len(y_test) - int(accuracy_tree * len(y_test)), len(y_test) - int(accuracy_rf * len(y_test))]\n",
        "})\n",
        "\n",
        "# Mostrar la tabla de comparación\n",
        "print(comparison_table)\n"
      ]
    },
    {
      "cell_type": "code",
      "execution_count": 18,
      "id": "1b644946",
      "metadata": {
        "colab": {
          "base_uri": "https://localhost:8080/",
          "height": 807
        },
        "id": "1b644946",
        "outputId": "f1f2bf4f-f90b-410d-8ec6-3575a6ee44a9"
      },
      "outputs": [
        {
          "output_type": "display_data",
          "data": {
            "text/plain": [
              "<Figure size 1000x800 with 4 Axes>"
            ],
            "image/png": "[encoded data removed]"
          },
          "metadata": {}
        }
      ],
      "source": [
        "#Código para mostrar la comparación de métricas de desempeño de las dos propuestas en gráfica\n",
        "\n",
        "# Definir las métricas para ambos modelos\n",
        "modelos = ['Árbol de Decisión', 'Random Forest']\n",
        "precision = [accuracy_tree, accuracy_rf]\n",
        "tpr = [TPR_tree, TPR_rf]\n",
        "fpr = [FPR_tree, FPR_rf]\n",
        "correctas = [int(accuracy_tree * len(y_test)), int(accuracy_rf * len(y_test))]\n",
        "incorrectas = [len(y_test) - int(accuracy_tree * len(y_test)), len(y_test) - int(accuracy_rf * len(y_test))]\n",
        "\n",
        "# Configuración de subplots para tener varias gráficas juntas\n",
        "fig, axs = plt.subplots(2, 2, figsize=(10, 8))\n",
        "\n",
        "# Gráfica de Precisión\n",
        "axs[0, 0].bar(modelos, precision, color=['blue', 'green'])\n",
        "axs[0, 0].set_title('Precisión')\n",
        "axs[0, 0].set_ylim([0, 1])\n",
        "\n",
        "# Gráfica de TPR (Tasa de Verdaderos Positivos)\n",
        "axs[0, 1].bar(modelos, tpr, color=['blue', 'green'])\n",
        "axs[0, 1].set_title('Tasa de Verdaderos Positivos (TPR)')\n",
        "axs[0, 1].set_ylim([0, 1])\n",
        "\n",
        "# Gráfica de FPR (Tasa de Falsos Positivos)\n",
        "axs[1, 0].bar(modelos, fpr, color=['blue', 'green'])\n",
        "axs[1, 0].set_title('Tasa de Falsos Positivos (FPR)')\n",
        "axs[1, 0].set_ylim([0, 1])\n",
        "\n",
        "# Gráfica de Instancias Correctas e Incorrectas\n",
        "width = 0.35  # Ancho de las barras\n",
        "x = np.arange(len(modelos))  # Etiquetas de los grupos\n",
        "\n",
        "# Gráfica de instancias correctas e incorrectas\n",
        "rects1 = axs[1, 1].bar(x - width/2, correctas, width, label='Correctas', color='blue')\n",
        "rects2 = axs[1, 1].bar(x + width/2, incorrectas, width, label='Incorrectas', color='red')\n",
        "\n",
        "# Añadir etiquetas, título y leyenda\n",
        "axs[1, 1].set_title('Instancias Correctas vs Incorrectas')\n",
        "axs[1, 1].set_xticks(x)\n",
        "axs[1, 1].set_xticklabels(modelos)\n",
        "axs[1, 1].legend()\n",
        "\n",
        "# Mostrar el gráfico\n",
        "plt.tight_layout()\n",
        "plt.show()\n",
        "\n"
      ]
    },
    {
      "cell_type": "markdown",
      "id": "f11d5ab4",
      "metadata": {
        "id": "f11d5ab4"
      },
      "source": [
        "Construya un párrafo con los principales hallazgos."
      ]
    },
    {
      "cell_type": "markdown",
      "id": "f810fb47",
      "metadata": {
        "ExecuteTime": {
          "end_time": "2022-03-14T16:16:57.134093Z",
          "start_time": "2022-03-14T16:16:57.117129Z"
        },
        "id": "f810fb47"
      },
      "source": [
        "## Discusión de los resultados obtenidos y argumentos sobre cómo se podrían mejorar de dichos resultados"
      ]
    },
    {
      "cell_type": "markdown",
      "id": "c74b3044",
      "metadata": {
        "id": "c74b3044"
      },
      "source": [
        "Realice en este espacio todo el análsis de resultados final incluyendo: ventajas y desventajas de cada modelo propuesto, Resultados comparados. Conclusiones objetivas y significantes con base a las diferentes métricas escogidas. Recomendaciones de mejora de las propuestas:"
      ]
    }
  ],
  "metadata": {
    "kernelspec": {
      "display_name": "Python 3 (ipykernel)",
      "language": "python",
      "name": "python3"
    },
    "language_info": {
      "codemirror_mode": {
        "name": "ipython",
        "version": 3
      },
      "file_extension": ".py",
      "mimetype": "text/x-python",
      "name": "python",
      "nbconvert_exporter": "python",
      "pygments_lexer": "ipython3",
      "version": "3.8.8"
    },
    "toc": {
      "base_numbering": 1,
      "nav_menu": {},
      "number_sections": true,
      "sideBar": true,
      "skip_h1_title": true,
      "title_cell": "Tabla de Contenido",
      "title_sidebar": "Contenido",
      "toc_cell": false,
      "toc_position": {
        "height": "calc(100% - 180px)",
        "left": "10px",
        "top": "150px",
        "width": "337.597px"
      },
      "toc_section_display": true,
      "toc_window_display": true
    },
    "colab": {
      "provenance": []
    }
  },
  "nbformat": 4,
  "nbformat_minor": 5
}